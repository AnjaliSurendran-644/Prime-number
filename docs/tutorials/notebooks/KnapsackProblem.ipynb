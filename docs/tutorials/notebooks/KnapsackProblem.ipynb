{
  "cells": [
    {
      "cell_type": "markdown",
      "metadata": {
        "id": "JeFLpaElPsRp"
      },
      "source": [
        "<a href=\"https://colab.research.google.com/github/conjure-cp/conjure/blob/main/docs/tutorials/notebooks/KnapsackProblem.ipynb\" target=\"_parent\"><img src=\"https://colab.research.google.com/assets/colab-badge.svg\" alt=\"Open In Colab\"/></a>"
      ]
    },
    {
      "cell_type": "markdown",
      "metadata": {
        "id": "Q-O7ivbPHtqI"
      },
      "source": [
        "# The Knapsack problem"
      ]
    },
    {
      "cell_type": "markdown",
      "metadata": {
        "id": "5I6cwwqhH19R"
      },
      "source": [
        "Original [The Knapsack Problem](https://conjure.readthedocs.io/en/latest/tutorials/knapsack.html) by Saad Attieh and Christopher Stone. Adapted by Alex Gallagher."
      ]
    },
    {
      "cell_type": "markdown",
      "metadata": {
        "id": "GZkJHUbaIFon"
      },
      "source": [
        "The Knapsack problem is a classical combinatorial optimisation problem, often used in areas of resource allocation. A basic variant of the Knapsack problem is defined as follows:\n",
        "\n",
        "**Given:**\n",
        "1. A set of items, each with a weight and a value,\n",
        "2. A maximum weight which we call capacity,\n",
        "\n",
        "**find a set of the items such that**\n",
        "1. The sum of the weights of the items in our set is less than or equal to the capacity, and\n",
        "2. The sum of the values of the items is maximised.\n",
        "\n",
        "Informally, think about putting items in a sack such that we maximise the total value of the sack whilst not going over the sack’s weight limit.\n"
      ]
    },
    {
      "cell_type": "code",
      "execution_count": 13,
      "metadata": {
        "colab": {
          "base_uri": "https://localhost:8080/"
        },
        "id": "A35VMVlIMe_g",
        "outputId": "9b71303a-7c05-4b86-bd3a-f5bf3c6246d6"
      },
      "outputs": [
        {
          "output_type": "stream",
          "name": "stdout",
          "text": [
            "Installing Conjure version v2.5.1 and Conjure Notebook version v0.0.9...\n",
            "Conjure is already installed.\n",
            "Conjure notebook is already installed.\n",
            "Conjure: The Automated Constraint Modelling Tool\n",
            "Release version 2.5.1\n",
            "Repository version a9cbc2e (2023-11-07 23:44:00 +0000)\n",
            "The conjure extension is already loaded. To reload it, use:\n",
            "  %reload_ext conjure\n"
          ]
        }
      ],
      "source": [
        "!source <(curl -s https://raw.githubusercontent.com/conjure-cp/conjure-notebook/v0.0.9/scripts/install-colab.sh)\n",
        "%load_ext conjure\n"
      ]
    },
    {
      "cell_type": "markdown",
      "metadata": {
        "id": "fU4y3zCXMNgX"
      },
      "source": [
        "##Model Explained"
      ]
    },
    {
      "cell_type": "markdown",
      "metadata": {
        "id": "vsYVModWMMUU"
      },
      "source": [
        "We begin by showing the entire problem as defined in Essence:\n",
        "\n",
        "`given items new type enum`\n",
        "\n",
        "\n",
        "`given weight : function (total) items --> int`\n",
        "\n",
        "\n",
        "`given gain : function (total) items --> int`\n",
        "\n",
        "\n",
        "`given capacity : int`\n",
        "\n",
        "\n",
        "`find picked : set of items`\n",
        "\n",
        "\n",
        "`maximising sum i in picked . gain(i)`\n",
        "\n",
        "\n",
        "`such that (sum i in picked . weight(i)) <= capacity`"
      ]
    },
    {
      "cell_type": "markdown",
      "metadata": {
        "id": "S0QHWB3fItZK"
      },
      "source": [
        "Going through the problem line by line:\n",
        "\n",
        "We begin by defining the parameters to the problem. Parameters can be defined outside of the problem, allowing different instances of the same problem to be solved without having to change the specification.\n",
        "\n",
        "Each parameter is denoted with the given keyword."
      ]
    },
    {
      "cell_type": "markdown",
      "metadata": {
        "id": "RR32w1Dd5-mU"
      },
      "source": [
        "`given items new type enum`"
      ]
    },
    {
      "cell_type": "markdown",
      "metadata": {
        "id": "MCnXSWH_IxnM"
      },
      "source": [
        "This line says that a set of items will be provided as an enum type. Enums are good for labeling items where it makes no sense to attribute a value to each item. So instead of using integers to represent each item, we may just assign names to each item and group the names under an enum type. Below is an example enum declaration, as it would be written in the Conjure Magic cell:"
      ]
    },
    {
      "cell_type": "code",
      "execution_count": 14,
      "metadata": {
        "colab": {
          "base_uri": "https://localhost:8080/",
          "height": 34
        },
        "id": "SrrZ0nFcI402",
        "outputId": "97880443-27ff-473d-8400-2e140291be59"
      },
      "outputs": [
        {
          "output_type": "display_data",
          "data": {
            "text/plain": [
              "<IPython.core.display.Markdown object>"
            ],
            "text/markdown": "```json\n{}\n```"
          },
          "metadata": {}
        }
      ],
      "source": [
        "%%conjure\n",
        "letting items be new type enum {a,b,c,d,e}"
      ]
    },
    {
      "cell_type": "markdown",
      "metadata": {
        "id": "CABjHWtbJGk0"
      },
      "source": [
        "`a`, `b`, etc. are just names we have given, they could be anything `bread`, `whiskey`, …"
      ]
    },
    {
      "cell_type": "markdown",
      "metadata": {
        "id": "b7N-ZDa46JGr"
      },
      "source": [
        "`given weight : function (total) items --> int`"
      ]
    },
    {
      "cell_type": "markdown",
      "metadata": {
        "id": "-uOA3Q_DJSvM"
      },
      "source": [
        "Another parameter, a function that maps from each item to an integer, we will treat these integers as weights. Since we are describing integers that will be given as parameters, no domain (lower/upper bound) is required. Here is an example function parameter:"
      ]
    },
    {
      "cell_type": "code",
      "execution_count": 15,
      "metadata": {
        "colab": {
          "base_uri": "https://localhost:8080/",
          "height": 34
        },
        "id": "IKZXLIHlJVF9",
        "outputId": "0b92e635-7c0e-4501-e06f-fd8e8ecd4783"
      },
      "outputs": [
        {
          "output_type": "display_data",
          "data": {
            "text/plain": [
              "<IPython.core.display.Markdown object>"
            ],
            "text/markdown": "```json\n{}\n```"
          },
          "metadata": {}
        }
      ],
      "source": [
        "%%conjure+\n",
        "letting weight be function\n",
        "    ( a --> 15\n",
        "    , b --> 25\n",
        "    , c --> 45\n",
        "    , d --> 50\n",
        "    , e --> 60\n",
        "    )"
      ]
    },
    {
      "cell_type": "markdown",
      "metadata": {
        "id": "XhUtJP1o6P0q"
      },
      "source": [
        "`given gain : function (total) items --> int`"
      ]
    },
    {
      "cell_type": "markdown",
      "metadata": {
        "id": "6zkqdEX6tOJU"
      },
      "source": [
        "Just the same as the weight parameter, this parameter is used to denote a mapping from each item to a value. An example value for this parameter as it would be defined in the parameter file is:"
      ]
    },
    {
      "cell_type": "code",
      "execution_count": 16,
      "metadata": {
        "colab": {
          "base_uri": "https://localhost:8080/",
          "height": 34
        },
        "id": "xgNtA5-4tQxX",
        "outputId": "ff3e695d-80b2-425a-92a0-7644d6f3ffaa"
      },
      "outputs": [
        {
          "output_type": "display_data",
          "data": {
            "text/plain": [
              "<IPython.core.display.Markdown object>"
            ],
            "text/markdown": "```json\n{}\n```"
          },
          "metadata": {}
        }
      ],
      "source": [
        "%%conjure+\n",
        "letting gain be function\n",
        "    ( a --> 10\n",
        "    , b --> 20\n",
        "    , c --> 40\n",
        "    , d --> 40\n",
        "    , e --> 50\n",
        "    )"
      ]
    },
    {
      "cell_type": "markdown",
      "metadata": {
        "id": "X8qMCv8DKio9"
      },
      "source": [
        "The final given:"
      ]
    },
    {
      "cell_type": "markdown",
      "metadata": {
        "id": "btL2k4bc6Xis"
      },
      "source": [
        "`given capacity : int`"
      ]
    },
    {
      "cell_type": "markdown",
      "metadata": {
        "id": "1C84QOfkKn7Y"
      },
      "source": [
        "The final parameter – a weight limit. Example value:"
      ]
    },
    {
      "cell_type": "code",
      "execution_count": 17,
      "metadata": {
        "colab": {
          "base_uri": "https://localhost:8080/",
          "height": 34
        },
        "id": "F1rd0BM4Kr6s",
        "outputId": "d0957da1-89f9-4b97-a939-39b23ef69b46"
      },
      "outputs": [
        {
          "output_type": "display_data",
          "data": {
            "text/plain": [
              "<IPython.core.display.Markdown object>"
            ],
            "text/markdown": "```json\n{}\n```"
          },
          "metadata": {}
        }
      ],
      "source": [
        "%%conjure+\n",
        "letting capacity be 80"
      ]
    },
    {
      "cell_type": "markdown",
      "metadata": {
        "id": "tjnxxkh06m8U"
      },
      "source": [
        "`find picked : set of items`"
      ]
    },
    {
      "cell_type": "markdown",
      "metadata": {
        "id": "PvO14gKeKyLf"
      },
      "source": [
        "The `find` keyword denotes decision variables, these are the variables for which the solver will search for a valid assignment. As is common in Essence problems, our entire problem is modelled using one decision variable named `picked`. Its type is `set of items`; a set of any size whose elements are taken from the `items` domain. Note, the maximum cardinality of the set is implicitly the size of the `items` domain."
      ]
    },
    {
      "cell_type": "markdown",
      "metadata": {
        "id": "KwTtli4p6qd6"
      },
      "source": [
        "`maximising sum i in picked . gain(i)`"
      ]
    },
    {
      "cell_type": "markdown",
      "metadata": {
        "id": "a_RSfRhQLAq1"
      },
      "source": [
        "The `maximising` keyword denotes the objective for the solver; a value for the solver to *maximise*. `minimise` is also a valid objective keyword. The expression `sum i in picked .` is a quantifier. The sum says that the values we produce should be summed together. The i in picked says we want to list out every element of the set `picked`. The expression given to the `sum` are described by the expression that follows the full-stop (.). In this case, we are asking for the image of `i` in the `gain` function. That is, for each item in the set, we are looking up the integer value that the item maps to in the `gain` function and summing these integers."
      ]
    },
    {
      "cell_type": "markdown",
      "metadata": {
        "id": "MqbSkMYu6vIt"
      },
      "source": [
        "`such that (sum i in picked . weight(i)) <= capacity`"
      ]
    },
    {
      "cell_type": "markdown",
      "metadata": {
        "id": "Z9Ug5YKJLWBt"
      },
      "source": [
        "The `such that` keyword denotes a constraint. Here the constraint is formulated in a similar manner to the objective. We are quantifying over the set of chosen items `picked`, looking up the value that the item maps to in the `weights` function and summing these values to together. We enforce that the result of the sum must be less than or equal to the capacity `<= capacity`.\n",
        "\n",
        "Note that you can post multiple constraints either by using commas between each constraint `,` or by reusing the keyword `such that`."
      ]
    },
    {
      "cell_type": "markdown",
      "metadata": {
        "id": "IQkhfYsfMTzt"
      },
      "source": [
        "## Solving the problem"
      ]
    },
    {
      "cell_type": "markdown",
      "metadata": {
        "id": "zQdE5f_yMhY8"
      },
      "source": [
        "Having run the earlier definition cells, we can now run the model:"
      ]
    },
    {
      "cell_type": "code",
      "execution_count": 18,
      "metadata": {
        "colab": {
          "base_uri": "https://localhost:8080/",
          "height": 34
        },
        "id": "PykrdRJYMoO9",
        "outputId": "16718cc1-0399-4988-8678-4ebe6aa3e821"
      },
      "outputs": [
        {
          "output_type": "display_data",
          "data": {
            "text/plain": [
              "<IPython.core.display.Markdown object>"
            ],
            "text/markdown": "```json\n{\"picked\": [\"b\", \"d\"]}\n```"
          },
          "metadata": {}
        }
      ],
      "source": [
        "%%conjure+\n",
        "find picked : set of items\n",
        "maximising sum i in picked . gain(i)\n",
        "such that (sum i in picked . weight(i)) <= capacity"
      ]
    },
    {
      "cell_type": "markdown",
      "metadata": {
        "id": "Zeb9D96g9C_E"
      },
      "source": [
        "## Visualisations:"
      ]
    },
    {
      "cell_type": "markdown",
      "metadata": {
        "id": "QKFbX2ryCXyj"
      },
      "source": [
        "We can print the result using python code:"
      ]
    },
    {
      "cell_type": "code",
      "execution_count": 19,
      "metadata": {
        "colab": {
          "base_uri": "https://localhost:8080/"
        },
        "id": "zZWJyxyh9HXC",
        "outputId": "2da82f0a-00ca-459d-ff4f-a40388a5103a"
      },
      "outputs": [
        {
          "output_type": "stream",
          "name": "stdout",
          "text": [
            "['b', 'd']\n"
          ]
        }
      ],
      "source": [
        "print(picked)"
      ]
    },
    {
      "cell_type": "markdown",
      "metadata": {
        "id": "rOwOZWoyCeeE"
      },
      "source": [
        "We can also show `picked` as a graph:"
      ]
    },
    {
      "cell_type": "code",
      "execution_count": 20,
      "metadata": {
        "colab": {
          "base_uri": "https://localhost:8080/",
          "height": 153
        },
        "id": "tY1u6ZJSDuy8",
        "outputId": "8a6a9ff9-d406-4454-c937-591e6ad51cd2"
      },
      "outputs": [
        {
          "output_type": "execute_result",
          "data": {
            "image/svg+xml": "<?xml version=\"1.0\" encoding=\"UTF-8\" standalone=\"no\"?>\n<!DOCTYPE svg PUBLIC \"-//W3C//DTD SVG 1.1//EN\"\n \"http://www.w3.org/Graphics/SVG/1.1/DTD/svg11.dtd\">\n<!-- Generated by graphviz version 2.43.0 (0)\n -->\n<!-- Title: parent Pages: 1 -->\n<svg width=\"166pt\" height=\"99pt\"\n viewBox=\"0.00 0.00 166.00 99.00\" xmlns=\"http://www.w3.org/2000/svg\" xmlns:xlink=\"http://www.w3.org/1999/xlink\">\n<g id=\"graph0\" class=\"graph\" transform=\"scale(1 1) rotate(0) translate(4 95)\">\n<title>parent</title>\n<polygon fill=\"white\" stroke=\"transparent\" points=\"-4,4 -4,-95 162,-95 162,4 -4,4\"/>\n<g id=\"clust1\" class=\"cluster\">\n<title>clusterx</title>\n<path fill=\"none\" stroke=\"black\" d=\"M20,-8C20,-8 138,-8 138,-8 144,-8 150,-14 150,-20 150,-20 150,-71 150,-71 150,-77 144,-83 138,-83 138,-83 20,-83 20,-83 14,-83 8,-77 8,-71 8,-71 8,-20 8,-20 8,-14 14,-8 20,-8\"/>\n<text text-anchor=\"middle\" x=\"79\" y=\"-67.8\" font-family=\"Times,serif\" font-size=\"14.00\">picked</text>\n</g>\n<!-- b -->\n<g id=\"node1\" class=\"node\">\n<title>b</title>\n<path fill=\"none\" stroke=\"blue\" d=\"M135.15,-42.72C135.15,-42.72 121.85,-48.85 121.85,-48.85 118.42,-50.42 111.58,-50.42 108.15,-48.85 108.15,-48.85 94.85,-42.72 94.85,-42.72 91.42,-41.14 89.72,-36.21 91.44,-32.85 91.44,-32.85 94.88,-26.15 94.88,-26.15 96.59,-22.79 102.08,-19.44 105.85,-19.44 105.85,-19.44 124.15,-19.44 124.15,-19.44 127.92,-19.44 133.41,-22.79 135.12,-26.15 135.12,-26.15 138.56,-32.85 138.56,-32.85 140.28,-36.21 138.58,-41.14 135.15,-42.72\"/>\n<text text-anchor=\"middle\" x=\"115\" y=\"-30.3\" font-family=\"Times,serif\" font-size=\"14.00\">b</text>\n</g>\n<!-- d -->\n<g id=\"node2\" class=\"node\">\n<title>d</title>\n<path fill=\"none\" stroke=\"blue\" d=\"M63.15,-42.72C63.15,-42.72 49.85,-48.85 49.85,-48.85 46.42,-50.42 39.58,-50.42 36.15,-48.85 36.15,-48.85 22.85,-42.72 22.85,-42.72 19.42,-41.14 17.72,-36.21 19.44,-32.85 19.44,-32.85 22.88,-26.15 22.88,-26.15 24.59,-22.79 30.08,-19.44 33.85,-19.44 33.85,-19.44 52.15,-19.44 52.15,-19.44 55.92,-19.44 61.41,-22.79 63.12,-26.15 63.12,-26.15 66.56,-32.85 66.56,-32.85 68.28,-36.21 66.58,-41.14 63.15,-42.72\"/>\n<text text-anchor=\"middle\" x=\"43\" y=\"-30.3\" font-family=\"Times,serif\" font-size=\"14.00\">d</text>\n</g>\n</g>\n</svg>\n",
            "text/plain": [
              "<graphviz.graphs.Digraph at 0x7fcfbdea4140>"
            ]
          },
          "metadata": {},
          "execution_count": 20
        }
      ],
      "source": [
        "import graphviz\n",
        "\n",
        "p = graphviz.Digraph('parent')\n",
        "p.attr(compound='true')\n",
        "\n",
        "\n",
        "with p.subgraph(name='clusterx', node_attr={'shape': 'pentagon', 'color': 'blue', 'style':'rounded'}) as c:\n",
        "    for item in picked:\n",
        "      c.node(str(item))\n",
        "    c.attr(label='picked')\n",
        "    c.attr(style='rounded')\n",
        "\n",
        "p"
      ]
    }
  ],
  "metadata": {
    "colab": {
      "provenance": [],
      "toc_visible": true
    },
    "kernelspec": {
      "display_name": "Python 3",
      "name": "python3"
    },
    "language_info": {
      "name": "python"
    }
  },
  "nbformat": 4,
  "nbformat_minor": 0
}